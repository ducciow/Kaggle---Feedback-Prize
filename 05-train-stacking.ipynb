{
 "cells": [
  {
   "cell_type": "code",
   "execution_count": 1,
   "id": "e1673102",
   "metadata": {
    "execution": {
     "iopub.execute_input": "2022-08-23T08:13:34.582265Z",
     "iopub.status.busy": "2022-08-23T08:13:34.581377Z",
     "iopub.status.idle": "2022-08-23T08:13:42.366489Z",
     "shell.execute_reply": "2022-08-23T08:13:42.365451Z"
    },
    "papermill": {
     "duration": 7.798149,
     "end_time": "2022-08-23T08:13:42.369467",
     "exception": false,
     "start_time": "2022-08-23T08:13:34.571318",
     "status": "completed"
    },
    "tags": []
   },
   "outputs": [],
   "source": [
    "import pandas as pd\n",
    "import numpy as np\n",
    "from sklearn.metrics import log_loss\n",
    "from sklearn.model_selection import train_test_split\n",
    "from sklearn.preprocessing import LabelEncoder\n",
    "from sklearn.preprocessing import StandardScaler\n",
    "from collections import Counter\n",
    "from nltk.corpus import stopwords\n",
    "from stop_words import get_stop_words\n",
    "from xgboost import XGBClassifier\n",
    "import joblib\n",
    "import nltk\n",
    "from collections import Counter\n",
    "import tensorflow as tf\n",
    "import matplotlib.pyplot as plt\n",
    "\n",
    "stopwords = list(get_stop_words('en'))\n",
    "\n",
    "def max_repeated_word_count(text):\n",
    "    words = [word for word in text.split() if word not in stopwords]\n",
    "\n",
    "    word_counts = Counter(words)\n",
    "    try:\n",
    "        return word_counts.most_common(1)[0][1]\n",
    "    \n",
    "    except IndexError:\n",
    "        return 0\n",
    "        \n",
    "    return max_count\n",
    "\n",
    "def get_pos_tags(x):\n",
    "    tokens = nltk.tokenize.word_tokenize(x)\n",
    "    tags = nltk.pos_tag(tokens, tagset='universal')\n",
    "    return Counter(tag for word, tag in tags)"
   ]
  },
  {
   "cell_type": "code",
   "execution_count": 2,
   "id": "47b05c2d",
   "metadata": {
    "execution": {
     "iopub.execute_input": "2022-08-23T08:13:42.384308Z",
     "iopub.status.busy": "2022-08-23T08:13:42.383275Z",
     "iopub.status.idle": "2022-08-23T08:13:42.637517Z",
     "shell.execute_reply": "2022-08-23T08:13:42.635992Z"
    },
    "papermill": {
     "duration": 0.264537,
     "end_time": "2022-08-23T08:13:42.640478",
     "exception": false,
     "start_time": "2022-08-23T08:13:42.375941",
     "status": "completed"
    },
    "tags": []
   },
   "outputs": [
    {
     "name": "stdout",
     "output_type": "stream",
     "text": [
      "(7353, 21)\n"
     ]
    }
   ],
   "source": [
    "data_0 = pd.read_csv(\"../input/feedback-train-further/train_further_0.csv\")\n",
    "data_0 = data_0.drop(columns = ['preds5_1', 'preds5_2', 'preds5_3'], axis=1)\n",
    "\n",
    "data_0_d = pd.read_csv(\"../input/feedback-train-further-extra-data/train_further_deb_0.csv\")\n",
    "data_0_d = data_0_d.drop(columns = ['essay_id', 'discourse_text', 'discourse_type', 'discourse_effectiveness', 'fold'], axis=1)\n",
    "\n",
    "data_0_inner = pd.merge(data_0, data_0_d, how='inner', on=['discourse_id'])\n",
    "\n",
    "# data_0_b = pd.read_csv(\"../input/feedback-train-further-extra-data/train_further_rob_0.csv\")\n",
    "# data_0_b = data_0_b.drop(columns = ['essay_id', 'discourse_text', 'discourse_type', 'discourse_effectiveness', 'fold'], axis=1)\n",
    "# data_0_inner = pd.merge(data_0_inner, data_0_b, how='inner', on=['discourse_id'])\n",
    "\n",
    "print(data_0_inner.shape)"
   ]
  },
  {
   "cell_type": "code",
   "execution_count": 3,
   "id": "1f848428",
   "metadata": {
    "execution": {
     "iopub.execute_input": "2022-08-23T08:13:42.654801Z",
     "iopub.status.busy": "2022-08-23T08:13:42.653813Z",
     "iopub.status.idle": "2022-08-23T08:13:42.865446Z",
     "shell.execute_reply": "2022-08-23T08:13:42.864166Z"
    },
    "papermill": {
     "duration": 0.221559,
     "end_time": "2022-08-23T08:13:42.868077",
     "exception": false,
     "start_time": "2022-08-23T08:13:42.646518",
     "status": "completed"
    },
    "tags": []
   },
   "outputs": [
    {
     "name": "stdout",
     "output_type": "stream",
     "text": [
      "(7353, 21)\n"
     ]
    }
   ],
   "source": [
    "data_1 = pd.read_csv(\"../input/feedback-train-further/train_further_1.csv\")\n",
    "data_1 = data_1.drop(columns = ['preds5_1', 'preds5_2', 'preds5_3'], axis=1)\n",
    "\n",
    "data_1_d = pd.read_csv(\"../input/feedback-train-further-extra-data/train_further_deb_1.csv\")\n",
    "data_1_d = data_1_d.drop(columns = ['essay_id', 'discourse_text', 'discourse_type', 'discourse_effectiveness', 'fold'], axis=1)\n",
    "\n",
    "data_1_inner = pd.merge(data_1, data_1_d, how='inner', on=['discourse_id'])\n",
    "\n",
    "# data_1_b = pd.read_csv(\"../input/feedback-train-further-extra-data/train_further_rob_1.csv\")\n",
    "# data_1_b = data_1_b.drop(columns = ['essay_id', 'discourse_text', 'discourse_type', 'discourse_effectiveness', 'fold'], axis=1)\n",
    "# data_1_inner = pd.merge(data_1_inner, data_1_b, how='inner', on=['discourse_id'])\n",
    "\n",
    "print(data_1_inner.shape)"
   ]
  },
  {
   "cell_type": "code",
   "execution_count": 4,
   "id": "1542150c",
   "metadata": {
    "execution": {
     "iopub.execute_input": "2022-08-23T08:13:42.881624Z",
     "iopub.status.busy": "2022-08-23T08:13:42.881226Z",
     "iopub.status.idle": "2022-08-23T08:13:43.100037Z",
     "shell.execute_reply": "2022-08-23T08:13:43.098477Z"
    },
    "papermill": {
     "duration": 0.228487,
     "end_time": "2022-08-23T08:13:43.102560",
     "exception": false,
     "start_time": "2022-08-23T08:13:42.874073",
     "status": "completed"
    },
    "tags": []
   },
   "outputs": [
    {
     "name": "stdout",
     "output_type": "stream",
     "text": [
      "(7353, 21)\n"
     ]
    }
   ],
   "source": [
    "data_3 = pd.read_csv(\"../input/feedback-train-further/train_further_3.csv\")\n",
    "data_3 = data_3.drop(columns = ['preds5_1', 'preds5_2', 'preds5_3'], axis=1)\n",
    "\n",
    "data_3_d = pd.read_csv(\"../input/feedback-train-further-extra-data/train_further_deb_3.csv\")\n",
    "data_3_d = data_3_d.drop(columns = ['essay_id', 'discourse_text', 'discourse_type', 'discourse_effectiveness', 'fold'], axis=1)\n",
    "\n",
    "data_3_inner = pd.merge(data_3, data_3_d, how='inner', on=['discourse_id'])\n",
    "\n",
    "# data_3_b = pd.read_csv(\"../input/feedback-train-further-extra-data/train_further_rob_3.csv\")\n",
    "# data_3_b = data_3_b.drop(columns = ['essay_id', 'discourse_text', 'discourse_type', 'discourse_effectiveness', 'fold'], axis=1)\n",
    "# data_3_inner = pd.merge(data_3_inner, data_3_b, how='inner', on=['discourse_id'])\n",
    "\n",
    "print(data_3_inner.shape)"
   ]
  },
  {
   "cell_type": "code",
   "execution_count": 5,
   "id": "a5bf0056",
   "metadata": {
    "execution": {
     "iopub.execute_input": "2022-08-23T08:13:43.115993Z",
     "iopub.status.busy": "2022-08-23T08:13:43.115543Z",
     "iopub.status.idle": "2022-08-23T08:13:43.336979Z",
     "shell.execute_reply": "2022-08-23T08:13:43.335529Z"
    },
    "papermill": {
     "duration": 0.231478,
     "end_time": "2022-08-23T08:13:43.339943",
     "exception": false,
     "start_time": "2022-08-23T08:13:43.108465",
     "status": "completed"
    },
    "tags": []
   },
   "outputs": [
    {
     "name": "stdout",
     "output_type": "stream",
     "text": [
      "(7353, 21)\n"
     ]
    }
   ],
   "source": [
    "data_4 = pd.read_csv(\"../input/feedback-train-further/train_further_4.csv\")\n",
    "data_4 = data_4.drop(columns = ['preds5_1', 'preds5_2', 'preds5_3'], axis=1)\n",
    "\n",
    "data_4_d = pd.read_csv(\"../input/feedback-train-further-extra-data/train_further_deb_4.csv\")\n",
    "data_4_d = data_4_d.drop(columns = ['essay_id', 'discourse_text', 'discourse_type', 'discourse_effectiveness', 'fold'], axis=1)\n",
    "\n",
    "data_4_inner = pd.merge(data_4, data_4_d, how='inner', on=['discourse_id'])\n",
    "\n",
    "# data_4_b = pd.read_csv(\"../input/feedback-train-further-extra-data/train_further_rob_4.csv\")\n",
    "# data_4_b = data_4_b.drop(columns = ['essay_id', 'discourse_text', 'discourse_type', 'discourse_effectiveness', 'fold'], axis=1)\n",
    "# data_4_inner = pd.merge(data_4_inner, data_4_b, how='inner', on=['discourse_id'])\n",
    "\n",
    "print(data_4_inner.shape)"
   ]
  },
  {
   "cell_type": "code",
   "execution_count": 6,
   "id": "562498c2",
   "metadata": {
    "execution": {
     "iopub.execute_input": "2022-08-23T08:13:43.353725Z",
     "iopub.status.busy": "2022-08-23T08:13:43.353310Z",
     "iopub.status.idle": "2022-08-23T08:13:43.367522Z",
     "shell.execute_reply": "2022-08-23T08:13:43.366171Z"
    },
    "papermill": {
     "duration": 0.024263,
     "end_time": "2022-08-23T08:13:43.370405",
     "exception": false,
     "start_time": "2022-08-23T08:13:43.346142",
     "status": "completed"
    },
    "tags": []
   },
   "outputs": [
    {
     "name": "stdout",
     "output_type": "stream",
     "text": [
      "(29412, 21)\n"
     ]
    }
   ],
   "source": [
    "data = pd.concat([data_0_inner, data_1_inner, data_3_inner, data_4_inner])\n",
    "print(data.shape)"
   ]
  },
  {
   "cell_type": "code",
   "execution_count": 7,
   "id": "a79da9ed",
   "metadata": {
    "execution": {
     "iopub.execute_input": "2022-08-23T08:13:43.384227Z",
     "iopub.status.busy": "2022-08-23T08:13:43.383849Z",
     "iopub.status.idle": "2022-08-23T08:13:43.388012Z",
     "shell.execute_reply": "2022-08-23T08:13:43.386856Z"
    },
    "papermill": {
     "duration": 0.014284,
     "end_time": "2022-08-23T08:13:43.390691",
     "exception": false,
     "start_time": "2022-08-23T08:13:43.376407",
     "status": "completed"
    },
    "tags": []
   },
   "outputs": [],
   "source": [
    "# # one-time check\n",
    "# y = data['discourse_effectiveness'].map({'Ineffective': 0, 'Adequate': 1, 'Effective': 2})\n",
    "# cols_keep = ['preds6_1', 'preds6_2', 'preds6_3']\n",
    "# X = data[cols_keep]\n",
    "\n",
    "# print(log_loss(y, X))"
   ]
  },
  {
   "cell_type": "code",
   "execution_count": 8,
   "id": "590900de",
   "metadata": {
    "execution": {
     "iopub.execute_input": "2022-08-23T08:13:43.404636Z",
     "iopub.status.busy": "2022-08-23T08:13:43.404259Z",
     "iopub.status.idle": "2022-08-23T08:13:47.217389Z",
     "shell.execute_reply": "2022-08-23T08:13:47.216325Z"
    },
    "papermill": {
     "duration": 3.823324,
     "end_time": "2022-08-23T08:13:47.220138",
     "exception": false,
     "start_time": "2022-08-23T08:13:43.396814",
     "status": "completed"
    },
    "tags": []
   },
   "outputs": [],
   "source": [
    "# char length\n",
    "data['char_length'] = data['discourse_text'].apply(lambda x: len(x))\n",
    "# word count\n",
    "data['word_count'] = data['discourse_text'].apply(lambda x: len(x.split()))\n",
    "# avg word length\n",
    "data['avg_word_length'] = data['char_length'] / data['word_count']\n",
    "# contains 'source'\n",
    "data['contains_source'] = data['discourse_text'].apply(lambda x: 'source' in x.lower().split())\n",
    "# contains 'i'\n",
    "data['contains_I'] = data['discourse_text'].apply(lambda x: 'i' in x.lower().split())\n",
    "# repeated word count\n",
    "data['max_repeated_word_count'] = data['discourse_text'].apply(max_repeated_word_count)"
   ]
  },
  {
   "cell_type": "code",
   "execution_count": 9,
   "id": "6477bf0f",
   "metadata": {
    "execution": {
     "iopub.execute_input": "2022-08-23T08:13:47.234489Z",
     "iopub.status.busy": "2022-08-23T08:13:47.234105Z",
     "iopub.status.idle": "2022-08-23T08:15:18.045714Z",
     "shell.execute_reply": "2022-08-23T08:15:18.044410Z"
    },
    "papermill": {
     "duration": 90.822339,
     "end_time": "2022-08-23T08:15:18.048749",
     "exception": false,
     "start_time": "2022-08-23T08:13:47.226410",
     "status": "completed"
    },
    "tags": []
   },
   "outputs": [],
   "source": [
    "# POS\n",
    "data[\"pos_tags\"] = data['discourse_text'].apply(lambda x: get_pos_tags(x))\n",
    "data = pd.concat([data, data[\"pos_tags\"].apply(pd.Series).fillna(0)], axis=1)\n",
    "data.drop(\"pos_tags\", axis=1, inplace=True)"
   ]
  },
  {
   "cell_type": "code",
   "execution_count": 10,
   "id": "0c08d1d4",
   "metadata": {
    "execution": {
     "iopub.execute_input": "2022-08-23T08:15:18.062854Z",
     "iopub.status.busy": "2022-08-23T08:15:18.062364Z",
     "iopub.status.idle": "2022-08-23T08:15:18.073711Z",
     "shell.execute_reply": "2022-08-23T08:15:18.072552Z"
    },
    "papermill": {
     "duration": 0.021434,
     "end_time": "2022-08-23T08:15:18.076436",
     "exception": false,
     "start_time": "2022-08-23T08:15:18.055002",
     "status": "completed"
    },
    "tags": []
   },
   "outputs": [],
   "source": [
    "cols = ['discourse_type', 'char_length', 'word_count', 'avg_word_length', 'contains_source', 'contains_I', 'max_repeated_word_count', \n",
    "        'preds2_1', 'preds2_2', 'preds2_3', \n",
    "        'preds3_1', 'preds3_2', 'preds3_3', \n",
    "        'preds4_1', 'preds4_2', 'preds4_3', \n",
    "        'preds5_1', 'preds5_2', 'preds5_3',\n",
    "        'ADJ', 'ADV', 'PRON', 'NUM', 'CONJ', \n",
    "        'discourse_effectiveness']\n",
    "data = data[cols]"
   ]
  },
  {
   "cell_type": "code",
   "execution_count": 11,
   "id": "1c20f996",
   "metadata": {
    "execution": {
     "iopub.execute_input": "2022-08-23T08:15:18.090565Z",
     "iopub.status.busy": "2022-08-23T08:15:18.090129Z",
     "iopub.status.idle": "2022-08-23T08:15:18.126111Z",
     "shell.execute_reply": "2022-08-23T08:15:18.124846Z"
    },
    "papermill": {
     "duration": 0.04606,
     "end_time": "2022-08-23T08:15:18.128659",
     "exception": false,
     "start_time": "2022-08-23T08:15:18.082599",
     "status": "completed"
    },
    "tags": []
   },
   "outputs": [
    {
     "data": {
      "text/html": [
       "<div>\n",
       "<style scoped>\n",
       "    .dataframe tbody tr th:only-of-type {\n",
       "        vertical-align: middle;\n",
       "    }\n",
       "\n",
       "    .dataframe tbody tr th {\n",
       "        vertical-align: top;\n",
       "    }\n",
       "\n",
       "    .dataframe thead th {\n",
       "        text-align: right;\n",
       "    }\n",
       "</style>\n",
       "<table border=\"1\" class=\"dataframe\">\n",
       "  <thead>\n",
       "    <tr style=\"text-align: right;\">\n",
       "      <th></th>\n",
       "      <th>discourse_type</th>\n",
       "      <th>char_length</th>\n",
       "      <th>word_count</th>\n",
       "      <th>avg_word_length</th>\n",
       "      <th>contains_source</th>\n",
       "      <th>contains_I</th>\n",
       "      <th>max_repeated_word_count</th>\n",
       "      <th>preds2_1</th>\n",
       "      <th>preds2_2</th>\n",
       "      <th>preds2_3</th>\n",
       "      <th>...</th>\n",
       "      <th>preds4_3</th>\n",
       "      <th>preds5_1</th>\n",
       "      <th>preds5_2</th>\n",
       "      <th>preds5_3</th>\n",
       "      <th>ADJ</th>\n",
       "      <th>ADV</th>\n",
       "      <th>PRON</th>\n",
       "      <th>NUM</th>\n",
       "      <th>CONJ</th>\n",
       "      <th>discourse_effectiveness</th>\n",
       "    </tr>\n",
       "  </thead>\n",
       "  <tbody>\n",
       "    <tr>\n",
       "      <th>0</th>\n",
       "      <td>Lead</td>\n",
       "      <td>321</td>\n",
       "      <td>55</td>\n",
       "      <td>5.836364</td>\n",
       "      <td>False</td>\n",
       "      <td>False</td>\n",
       "      <td>2</td>\n",
       "      <td>0.470207</td>\n",
       "      <td>0.500918</td>\n",
       "      <td>0.028876</td>\n",
       "      <td>...</td>\n",
       "      <td>0.421165</td>\n",
       "      <td>0.020156</td>\n",
       "      <td>0.424608</td>\n",
       "      <td>0.555236</td>\n",
       "      <td>6.0</td>\n",
       "      <td>6.0</td>\n",
       "      <td>4.0</td>\n",
       "      <td>0.0</td>\n",
       "      <td>0.0</td>\n",
       "      <td>Adequate</td>\n",
       "    </tr>\n",
       "    <tr>\n",
       "      <th>1</th>\n",
       "      <td>Position</td>\n",
       "      <td>112</td>\n",
       "      <td>20</td>\n",
       "      <td>5.600000</td>\n",
       "      <td>False</td>\n",
       "      <td>True</td>\n",
       "      <td>1</td>\n",
       "      <td>0.481609</td>\n",
       "      <td>0.510175</td>\n",
       "      <td>0.008216</td>\n",
       "      <td>...</td>\n",
       "      <td>0.478896</td>\n",
       "      <td>0.003002</td>\n",
       "      <td>0.362385</td>\n",
       "      <td>0.634613</td>\n",
       "      <td>2.0</td>\n",
       "      <td>0.0</td>\n",
       "      <td>1.0</td>\n",
       "      <td>0.0</td>\n",
       "      <td>0.0</td>\n",
       "      <td>Adequate</td>\n",
       "    </tr>\n",
       "    <tr>\n",
       "      <th>2</th>\n",
       "      <td>Claim</td>\n",
       "      <td>151</td>\n",
       "      <td>28</td>\n",
       "      <td>5.392857</td>\n",
       "      <td>False</td>\n",
       "      <td>True</td>\n",
       "      <td>1</td>\n",
       "      <td>0.353120</td>\n",
       "      <td>0.635564</td>\n",
       "      <td>0.011316</td>\n",
       "      <td>...</td>\n",
       "      <td>0.734519</td>\n",
       "      <td>0.015296</td>\n",
       "      <td>0.369319</td>\n",
       "      <td>0.615385</td>\n",
       "      <td>2.0</td>\n",
       "      <td>2.0</td>\n",
       "      <td>4.0</td>\n",
       "      <td>0.0</td>\n",
       "      <td>0.0</td>\n",
       "      <td>Adequate</td>\n",
       "    </tr>\n",
       "    <tr>\n",
       "      <th>3</th>\n",
       "      <td>Claim</td>\n",
       "      <td>39</td>\n",
       "      <td>7</td>\n",
       "      <td>5.571429</td>\n",
       "      <td>False</td>\n",
       "      <td>False</td>\n",
       "      <td>1</td>\n",
       "      <td>0.455436</td>\n",
       "      <td>0.466478</td>\n",
       "      <td>0.078087</td>\n",
       "      <td>...</td>\n",
       "      <td>0.147192</td>\n",
       "      <td>0.087109</td>\n",
       "      <td>0.680018</td>\n",
       "      <td>0.232873</td>\n",
       "      <td>1.0</td>\n",
       "      <td>1.0</td>\n",
       "      <td>2.0</td>\n",
       "      <td>0.0</td>\n",
       "      <td>0.0</td>\n",
       "      <td>Adequate</td>\n",
       "    </tr>\n",
       "    <tr>\n",
       "      <th>4</th>\n",
       "      <td>Claim</td>\n",
       "      <td>31</td>\n",
       "      <td>7</td>\n",
       "      <td>4.428571</td>\n",
       "      <td>False</td>\n",
       "      <td>False</td>\n",
       "      <td>1</td>\n",
       "      <td>0.563831</td>\n",
       "      <td>0.419973</td>\n",
       "      <td>0.016196</td>\n",
       "      <td>...</td>\n",
       "      <td>0.603617</td>\n",
       "      <td>0.022393</td>\n",
       "      <td>0.547576</td>\n",
       "      <td>0.430031</td>\n",
       "      <td>0.0</td>\n",
       "      <td>0.0</td>\n",
       "      <td>2.0</td>\n",
       "      <td>0.0</td>\n",
       "      <td>0.0</td>\n",
       "      <td>Adequate</td>\n",
       "    </tr>\n",
       "  </tbody>\n",
       "</table>\n",
       "<p>5 rows × 25 columns</p>\n",
       "</div>"
      ],
      "text/plain": [
       "  discourse_type  char_length  word_count  avg_word_length  contains_source  \\\n",
       "0           Lead          321          55         5.836364            False   \n",
       "1       Position          112          20         5.600000            False   \n",
       "2          Claim          151          28         5.392857            False   \n",
       "3          Claim           39           7         5.571429            False   \n",
       "4          Claim           31           7         4.428571            False   \n",
       "\n",
       "   contains_I  max_repeated_word_count  preds2_1  preds2_2  preds2_3  ...  \\\n",
       "0       False                        2  0.470207  0.500918  0.028876  ...   \n",
       "1        True                        1  0.481609  0.510175  0.008216  ...   \n",
       "2        True                        1  0.353120  0.635564  0.011316  ...   \n",
       "3       False                        1  0.455436  0.466478  0.078087  ...   \n",
       "4       False                        1  0.563831  0.419973  0.016196  ...   \n",
       "\n",
       "   preds4_3  preds5_1  preds5_2  preds5_3  ADJ  ADV  PRON  NUM  CONJ  \\\n",
       "0  0.421165  0.020156  0.424608  0.555236  6.0  6.0   4.0  0.0   0.0   \n",
       "1  0.478896  0.003002  0.362385  0.634613  2.0  0.0   1.0  0.0   0.0   \n",
       "2  0.734519  0.015296  0.369319  0.615385  2.0  2.0   4.0  0.0   0.0   \n",
       "3  0.147192  0.087109  0.680018  0.232873  1.0  1.0   2.0  0.0   0.0   \n",
       "4  0.603617  0.022393  0.547576  0.430031  0.0  0.0   2.0  0.0   0.0   \n",
       "\n",
       "   discourse_effectiveness  \n",
       "0                 Adequate  \n",
       "1                 Adequate  \n",
       "2                 Adequate  \n",
       "3                 Adequate  \n",
       "4                 Adequate  \n",
       "\n",
       "[5 rows x 25 columns]"
      ]
     },
     "execution_count": 11,
     "metadata": {},
     "output_type": "execute_result"
    }
   ],
   "source": [
    "data.head()"
   ]
  },
  {
   "cell_type": "code",
   "execution_count": 12,
   "id": "beb2d6a0",
   "metadata": {
    "execution": {
     "iopub.execute_input": "2022-08-23T08:15:18.144858Z",
     "iopub.status.busy": "2022-08-23T08:15:18.144405Z",
     "iopub.status.idle": "2022-08-23T08:15:18.156360Z",
     "shell.execute_reply": "2022-08-23T08:15:18.155099Z"
    },
    "papermill": {
     "duration": 0.023236,
     "end_time": "2022-08-23T08:15:18.158725",
     "exception": false,
     "start_time": "2022-08-23T08:15:18.135489",
     "status": "completed"
    },
    "tags": []
   },
   "outputs": [],
   "source": [
    "y = data['discourse_effectiveness'].map({'Ineffective': 0, 'Adequate': 1, 'Effective': 2})\n",
    "X = data.drop(columns = ['discourse_effectiveness'], axis=1)"
   ]
  },
  {
   "cell_type": "code",
   "execution_count": 13,
   "id": "82e8f8a1",
   "metadata": {
    "execution": {
     "iopub.execute_input": "2022-08-23T08:15:18.173269Z",
     "iopub.status.busy": "2022-08-23T08:15:18.172856Z",
     "iopub.status.idle": "2022-08-23T08:15:18.188673Z",
     "shell.execute_reply": "2022-08-23T08:15:18.186965Z"
    },
    "papermill": {
     "duration": 0.027049,
     "end_time": "2022-08-23T08:15:18.192127",
     "exception": false,
     "start_time": "2022-08-23T08:15:18.165078",
     "status": "completed"
    },
    "tags": []
   },
   "outputs": [],
   "source": [
    "X_train, X_test, y_train_, y_test_ = train_test_split(X, y, test_size=0.15, random_state=87)"
   ]
  },
  {
   "cell_type": "code",
   "execution_count": 14,
   "id": "b0413bb9",
   "metadata": {
    "execution": {
     "iopub.execute_input": "2022-08-23T08:15:18.207815Z",
     "iopub.status.busy": "2022-08-23T08:15:18.207156Z",
     "iopub.status.idle": "2022-08-23T08:15:18.230028Z",
     "shell.execute_reply": "2022-08-23T08:15:18.229084Z"
    },
    "papermill": {
     "duration": 0.033544,
     "end_time": "2022-08-23T08:15:18.232572",
     "exception": false,
     "start_time": "2022-08-23T08:15:18.199028",
     "status": "completed"
    },
    "tags": []
   },
   "outputs": [],
   "source": [
    "encode_cols = ['discourse_type', 'contains_source', 'contains_I']\n",
    "\n",
    "for i, col in enumerate(encode_cols):\n",
    "    labelencoder = LabelEncoder()\n",
    "    X_train[col] = labelencoder.fit_transform(X_train[col])\n",
    "    joblib.dump(labelencoder, f'encoder_{i}.pkl')\n",
    "    X_test[col] = labelencoder.transform(X_test[col])"
   ]
  },
  {
   "cell_type": "code",
   "execution_count": 15,
   "id": "ad3fb6ce",
   "metadata": {
    "execution": {
     "iopub.execute_input": "2022-08-23T08:15:18.247852Z",
     "iopub.status.busy": "2022-08-23T08:15:18.247143Z",
     "iopub.status.idle": "2022-08-23T08:15:18.284428Z",
     "shell.execute_reply": "2022-08-23T08:15:18.282393Z"
    },
    "papermill": {
     "duration": 0.049067,
     "end_time": "2022-08-23T08:15:18.288238",
     "exception": false,
     "start_time": "2022-08-23T08:15:18.239171",
     "status": "completed"
    },
    "tags": []
   },
   "outputs": [],
   "source": [
    "ss_X = StandardScaler()\n",
    "X_train = ss_X.fit_transform(X_train)\n",
    "joblib.dump(ss_X, 'scaler.pkl')\n",
    "X_test = ss_X.transform(X_test)\n",
    "\n",
    "y_train = np.zeros((y_train_.shape[0], 3))\n",
    "for i, v in enumerate(y_train_):\n",
    "    y_train[i, v] = 1\n",
    "y_test = np.zeros((y_test_.shape[0], 3))\n",
    "for i, v in enumerate(y_test_):\n",
    "    y_test[i, v] = 1"
   ]
  },
  {
   "cell_type": "code",
   "execution_count": 16,
   "id": "d21044fe",
   "metadata": {
    "execution": {
     "iopub.execute_input": "2022-08-23T08:15:18.305030Z",
     "iopub.status.busy": "2022-08-23T08:15:18.304542Z",
     "iopub.status.idle": "2022-08-23T08:15:19.747475Z",
     "shell.execute_reply": "2022-08-23T08:15:19.746034Z"
    },
    "papermill": {
     "duration": 1.45503,
     "end_time": "2022-08-23T08:15:19.750596",
     "exception": false,
     "start_time": "2022-08-23T08:15:18.295566",
     "status": "completed"
    },
    "tags": []
   },
   "outputs": [
    {
     "name": "stderr",
     "output_type": "stream",
     "text": [
      "2022-08-23 08:15:19.719659: I tensorflow/core/common_runtime/process_util.cc:146] Creating new thread pool with default inter op setting: 2. Tune using inter_op_parallelism_threads for best performance.\n"
     ]
    }
   ],
   "source": [
    "model = tf.keras.models.Sequential([\n",
    "    tf.keras.layers.Dense(256, activation='relu'),\n",
    "    tf.keras.layers.Dense(64, activation='relu'),\n",
    "    tf.keras.layers.Dense(3, activation='softmax') \n",
    "])"
   ]
  },
  {
   "cell_type": "code",
   "execution_count": 17,
   "id": "e10b1d58",
   "metadata": {
    "execution": {
     "iopub.execute_input": "2022-08-23T08:15:19.766162Z",
     "iopub.status.busy": "2022-08-23T08:15:19.765662Z",
     "iopub.status.idle": "2022-08-23T08:15:19.792322Z",
     "shell.execute_reply": "2022-08-23T08:15:19.791382Z"
    },
    "papermill": {
     "duration": 0.037399,
     "end_time": "2022-08-23T08:15:19.794847",
     "exception": false,
     "start_time": "2022-08-23T08:15:19.757448",
     "status": "completed"
    },
    "tags": []
   },
   "outputs": [],
   "source": [
    "# lr_schedule = tf.keras.optimizers.schedules.ExponentialDecay(\n",
    "#     1e-4,\n",
    "#     decay_steps=10000,\n",
    "#     decay_rate=0.96,\n",
    "#     staircase=True)\n",
    "\n",
    "model.compile(optimizer=tf.keras.optimizers.Adam(learning_rate=1e-4),\n",
    "              loss='categorical_crossentropy',\n",
    "              metrics = ['categorical_crossentropy'])"
   ]
  },
  {
   "cell_type": "code",
   "execution_count": 18,
   "id": "6168ca25",
   "metadata": {
    "execution": {
     "iopub.execute_input": "2022-08-23T08:15:19.810955Z",
     "iopub.status.busy": "2022-08-23T08:15:19.809833Z",
     "iopub.status.idle": "2022-08-23T08:16:42.488512Z",
     "shell.execute_reply": "2022-08-23T08:16:42.487303Z"
    },
    "papermill": {
     "duration": 82.689829,
     "end_time": "2022-08-23T08:16:42.491401",
     "exception": false,
     "start_time": "2022-08-23T08:15:19.801572",
     "status": "completed"
    },
    "tags": []
   },
   "outputs": [
    {
     "name": "stderr",
     "output_type": "stream",
     "text": [
      "2022-08-23 08:15:19.910626: I tensorflow/compiler/mlir/mlir_graph_optimization_pass.cc:185] None of the MLIR Optimization Passes are enabled (registered 2)\n"
     ]
    },
    {
     "name": "stdout",
     "output_type": "stream",
     "text": [
      "Epoch 1/20\n",
      "782/782 - 4s - loss: 0.6425 - categorical_crossentropy: 0.6425 - val_loss: 0.5875 - val_categorical_crossentropy: 0.5875\n"
     ]
    },
    {
     "name": "stderr",
     "output_type": "stream",
     "text": [
      "2022-08-23 08:15:24.089673: W tensorflow/python/util/util.cc:348] Sets are not currently considered sequences, but this may change in the future, so consider avoiding using them.\n"
     ]
    },
    {
     "name": "stdout",
     "output_type": "stream",
     "text": [
      "Epoch 2/20\n",
      "782/782 - 2s - loss: 0.5950 - categorical_crossentropy: 0.5950 - val_loss: 0.5846 - val_categorical_crossentropy: 0.5846\n",
      "Epoch 3/20\n",
      "782/782 - 2s - loss: 0.5901 - categorical_crossentropy: 0.5901 - val_loss: 0.5798 - val_categorical_crossentropy: 0.5798\n",
      "Epoch 4/20\n",
      "782/782 - 2s - loss: 0.5875 - categorical_crossentropy: 0.5875 - val_loss: 0.5801 - val_categorical_crossentropy: 0.5801\n",
      "Epoch 5/20\n",
      "782/782 - 2s - loss: 0.5859 - categorical_crossentropy: 0.5859 - val_loss: 0.5777 - val_categorical_crossentropy: 0.5777\n",
      "Epoch 6/20\n",
      "782/782 - 2s - loss: 0.5846 - categorical_crossentropy: 0.5846 - val_loss: 0.5779 - val_categorical_crossentropy: 0.5779\n",
      "Epoch 7/20\n",
      "782/782 - 2s - loss: 0.5836 - categorical_crossentropy: 0.5836 - val_loss: 0.5770 - val_categorical_crossentropy: 0.5770\n",
      "Epoch 8/20\n",
      "782/782 - 2s - loss: 0.5822 - categorical_crossentropy: 0.5822 - val_loss: 0.5777 - val_categorical_crossentropy: 0.5777\n",
      "Epoch 9/20\n",
      "782/782 - 2s - loss: 0.5813 - categorical_crossentropy: 0.5813 - val_loss: 0.5767 - val_categorical_crossentropy: 0.5767\n",
      "Epoch 10/20\n",
      "782/782 - 2s - loss: 0.5805 - categorical_crossentropy: 0.5805 - val_loss: 0.5766 - val_categorical_crossentropy: 0.5766\n",
      "Epoch 11/20\n",
      "782/782 - 2s - loss: 0.5796 - categorical_crossentropy: 0.5796 - val_loss: 0.5777 - val_categorical_crossentropy: 0.5777\n",
      "Epoch 12/20\n",
      "782/782 - 2s - loss: 0.5784 - categorical_crossentropy: 0.5784 - val_loss: 0.5774 - val_categorical_crossentropy: 0.5774\n",
      "Epoch 13/20\n",
      "782/782 - 2s - loss: 0.5780 - categorical_crossentropy: 0.5780 - val_loss: 0.5770 - val_categorical_crossentropy: 0.5770\n",
      "Epoch 14/20\n",
      "782/782 - 2s - loss: 0.5769 - categorical_crossentropy: 0.5769 - val_loss: 0.5752 - val_categorical_crossentropy: 0.5752\n",
      "Epoch 15/20\n",
      "782/782 - 2s - loss: 0.5764 - categorical_crossentropy: 0.5764 - val_loss: 0.5749 - val_categorical_crossentropy: 0.5749\n",
      "Epoch 16/20\n",
      "782/782 - 2s - loss: 0.5758 - categorical_crossentropy: 0.5758 - val_loss: 0.5759 - val_categorical_crossentropy: 0.5759\n",
      "Epoch 17/20\n",
      "782/782 - 2s - loss: 0.5748 - categorical_crossentropy: 0.5748 - val_loss: 0.5756 - val_categorical_crossentropy: 0.5756\n",
      "Epoch 18/20\n",
      "782/782 - 2s - loss: 0.5742 - categorical_crossentropy: 0.5742 - val_loss: 0.5759 - val_categorical_crossentropy: 0.5759\n",
      "Epoch 19/20\n",
      "782/782 - 3s - loss: 0.5738 - categorical_crossentropy: 0.5738 - val_loss: 0.5758 - val_categorical_crossentropy: 0.5758\n",
      "Epoch 20/20\n",
      "782/782 - 2s - loss: 0.5728 - categorical_crossentropy: 0.5728 - val_loss: 0.5757 - val_categorical_crossentropy: 0.5757\n",
      "\n",
      "0.5749406814575195\n"
     ]
    }
   ],
   "source": [
    "class myCallback(tf.keras.callbacks.Callback):\n",
    "    def __init__(self):\n",
    "        super().__init__()\n",
    "        self.best_score = 100\n",
    "        self.num_model = 0\n",
    "        \n",
    "    def on_epoch_end(self, epoch, logs={}):\n",
    "        score = logs.get('val_categorical_crossentropy')\n",
    "        if score <= self.best_score:\n",
    "            self.best_score = score\n",
    "            self.num_model += 1\n",
    "            model.save(f'model{self.num_model}')\n",
    "        if epoch == 19:\n",
    "            print()\n",
    "            print(self.best_score)\n",
    "\n",
    "callbacks = myCallback()\n",
    "\n",
    "history = model.fit(\n",
    "            X_train,\n",
    "            y_train,\n",
    "            epochs=20,\n",
    "            validation_data=(X_test, y_test),\n",
    "            callbacks=[callbacks],\n",
    "            verbose=2\n",
    "            )"
   ]
  },
  {
   "cell_type": "code",
   "execution_count": 19,
   "id": "a1794175",
   "metadata": {
    "execution": {
     "iopub.execute_input": "2022-08-23T08:16:42.512999Z",
     "iopub.status.busy": "2022-08-23T08:16:42.512544Z",
     "iopub.status.idle": "2022-08-23T08:16:42.517777Z",
     "shell.execute_reply": "2022-08-23T08:16:42.516520Z"
    },
    "papermill": {
     "duration": 0.01874,
     "end_time": "2022-08-23T08:16:42.520628",
     "exception": false,
     "start_time": "2022-08-23T08:16:42.501888",
     "status": "completed"
    },
    "tags": []
   },
   "outputs": [],
   "source": [
    "# plt.plot(history.history['categorical_crossentropy'])\n",
    "# plt.plot(history.history['val_categorical_crossentropy'])\n",
    "# plt.title('model loss')\n",
    "# plt.ylabel('loss')\n",
    "# plt.xlabel('epoch')\n",
    "# plt.legend(['train', 'test'], loc='upper left')\n",
    "# plt.show()"
   ]
  },
  {
   "cell_type": "code",
   "execution_count": 20,
   "id": "40e67199",
   "metadata": {
    "execution": {
     "iopub.execute_input": "2022-08-23T08:16:42.540513Z",
     "iopub.status.busy": "2022-08-23T08:16:42.540119Z",
     "iopub.status.idle": "2022-08-23T08:16:43.295451Z",
     "shell.execute_reply": "2022-08-23T08:16:43.293558Z"
    },
    "papermill": {
     "duration": 0.76928,
     "end_time": "2022-08-23T08:16:43.298897",
     "exception": false,
     "start_time": "2022-08-23T08:16:42.529617",
     "status": "completed"
    },
    "tags": []
   },
   "outputs": [],
   "source": [
    "model.save('model')"
   ]
  },
  {
   "cell_type": "code",
   "execution_count": null,
   "id": "d762e774",
   "metadata": {
    "papermill": {
     "duration": 0.008542,
     "end_time": "2022-08-23T08:16:43.317263",
     "exception": false,
     "start_time": "2022-08-23T08:16:43.308721",
     "status": "completed"
    },
    "tags": []
   },
   "outputs": [],
   "source": []
  }
 ],
 "metadata": {
  "kernelspec": {
   "display_name": "Python 3",
   "language": "python",
   "name": "python3"
  },
  "language_info": {
   "codemirror_mode": {
    "name": "ipython",
    "version": 3
   },
   "file_extension": ".py",
   "mimetype": "text/x-python",
   "name": "python",
   "nbconvert_exporter": "python",
   "pygments_lexer": "ipython3",
   "version": "3.7.12"
  },
  "papermill": {
   "default_parameters": {},
   "duration": 201.262541,
   "end_time": "2022-08-23T08:16:46.555456",
   "environment_variables": {},
   "exception": null,
   "input_path": "__notebook__.ipynb",
   "output_path": "__notebook__.ipynb",
   "parameters": {},
   "start_time": "2022-08-23T08:13:25.292915",
   "version": "2.3.4"
  }
 },
 "nbformat": 4,
 "nbformat_minor": 5
}
